{
  "nbformat": 4,
  "nbformat_minor": 0,
  "metadata": {
    "colab": {
      "name": "IS-programming3.ipynb",
      "provenance": [],
      "collapsed_sections": [],
      "toc_visible": true,
      "authorship_tag": "ABX9TyNefbtCA0+9LVZ/ogumyq9k",
      "include_colab_link": true
    },
    "kernelspec": {
      "name": "python3",
      "display_name": "Python 3"
    }
  },
  "cells": [
    {
      "cell_type": "markdown",
      "metadata": {
        "id": "view-in-github",
        "colab_type": "text"
      },
      "source": [
        "<a href=\"https://colab.research.google.com/github/hajimu/IS-Class2020/blob/master/IS_programming3.ipynb\" target=\"_parent\"><img src=\"https://colab.research.google.com/assets/colab-badge.svg\" alt=\"Open In Colab\"/></a>"
      ]
    },
    {
      "cell_type": "markdown",
      "metadata": {
        "id": "FrFAPNkWRSkJ",
        "colab_type": "text"
      },
      "source": [
        "# Defining Functions*\n",
        "*Quoted from https://docs.python.org/3/tutorial/controlflow.html#defining-functions. Refer original for detail.\n",
        "\n"
      ]
    },
    {
      "cell_type": "markdown",
      "metadata": {
        "id": "K8VzcC4CFu2V",
        "colab_type": "text"
      },
      "source": [
        "## Example1: Function that takes a parameter\n",
        "We can create a function that writes the Fibonacci series to an arbitrary boundary:"
      ]
    },
    {
      "cell_type": "code",
      "metadata": {
        "id": "ksO-8xW8SNw7",
        "colab_type": "code",
        "colab": {}
      },
      "source": [
        "def fib(n):    # write Fibonacci series up to n\n",
        "    \"\"\"Print a Fibonacci series up to n.\"\"\"\n",
        "    a =0\n",
        "    b = 1\n",
        "    while a < n:\n",
        "        print(a, end=' ') #end speficies the string to write at the end of output\n",
        "        c = a   ##corrected on 4.30 original: a,b = b,a+b\n",
        "        a = b   ##corrected on 4.30\n",
        "        b = c+b ##corrected 0n 4.30\n",
        "    print()\n",
        "# def ends\n",
        "#Function call\n",
        "f =fib(2000)"
      ],
      "execution_count": 0,
      "outputs": []
    },
    {
      "cell_type": "markdown",
      "metadata": {
        "id": "GIhNV_Z3FV7H",
        "colab_type": "text"
      },
      "source": [
        "The keyword def introduces a function definition. It must be followed by the function name and the parenthesized list of formal parameters. The statements that form the body of the function start at the next line, and must be indented.\n",
        "\n",
        "The first statement of the function body can optionally be a string literal; this string literal is the function’s documentation string, or docstring. There are tools which use docstrings to automatically produce online or printed documentation, or to let the user interactively browse through code; it’s good practice to include docstrings in code that you write, so make a habit of it.\n",
        "\n",
        "The execution of a function introduces the local variables of the function. \n",
        "\n",
        "Thus, global variables and variables of enclosing functions (not explained in this class) cannot be directly assigned a value within a function.\n",
        "\n",
        "The actual parameters (arguments) to a function call are also treated same way as local variables. When a function calls another function, new local variables are created for that call."
      ]
    },
    {
      "cell_type": "markdown",
      "metadata": {
        "id": "P5lR0tP3SkSR",
        "colab_type": "text"
      },
      "source": [
        "## Example2: Function that return a value\n",
        "\n",
        "It is simple to write a function that returns a list of the numbers of the Fibonacci series, instead of printing it:\n"
      ]
    },
    {
      "cell_type": "code",
      "metadata": {
        "id": "7x39gXcFTsTJ",
        "colab_type": "code",
        "colab": {}
      },
      "source": [
        "def fib2(n):  # return Fibonacci series up to n\n",
        "    \"\"\"Return a list containing the Fibonacci series up to n.\"\"\"\n",
        "    result = []\n",
        "    a = 0\n",
        "    b = 1\n",
        "    while a < n:\n",
        "        result.append(a) #\n",
        "        a,b = b,a + b ## reverted to be original on 4.30\n",
        "    return result\n",
        " \n",
        "#Function call returns a value\n",
        "f = fib2(100)\n",
        "print(f)"
      ],
      "execution_count": 0,
      "outputs": []
    },
    {
      "cell_type": "markdown",
      "metadata": {
        "id": "Pzcg0OuCTlY5",
        "colab_type": "text"
      },
      "source": [
        "## Example3 - Recursive call\n",
        "You can call a function from inside of itself. This is called recursion (recursive call). Basic mechanism of recursion depends on traditional stack machine (detail is not explained here).\n",
        "With recursion, Fibonacchi series' definition (Fib(n+1) = Fib(n)+Fib(n-1)) can be implemented straight fowardly.\n"
      ]
    },
    {
      "cell_type": "code",
      "metadata": {
        "id": "kOX8xjAmWrG8",
        "colab_type": "code",
        "colab": {}
      },
      "source": [
        "def fib3(n):\n",
        "    \"\"\"Return a n-th member of Fibonacci series. a recursive version\"\"\"\n",
        "    if n < 2:\n",
        "        return n\n",
        "    else:\n",
        "        return fib3(n-1)+fib3(n-2)\n",
        "#def ends\n",
        "\n",
        "fib3(10) #call\n"
      ],
      "execution_count": 0,
      "outputs": []
    },
    {
      "cell_type": "markdown",
      "metadata": {
        "id": "7rFLC0UnZxPE",
        "colab_type": "text"
      },
      "source": [
        "Recursion often makes program short but increases runtime overhead in most cases (the cost for function calling is significantly higher than simple statement execution cost). Typically, thousands of nested recursion will cause stack over flow and make program fail."
      ]
    },
    {
      "cell_type": "markdown",
      "metadata": {
        "id": "P-gV5ymDz7_3",
        "colab_type": "text"
      },
      "source": [
        "# Mini report 2\n",
        "Count how many times function fib3 is called when calculating Fib(10) by addinig reuired statements to the code below. Also compare that number with number of \"+\" operation occuring fib2 when calculating Fib(10).\n"
      ]
    },
    {
      "cell_type": "code",
      "metadata": {
        "id": "lvwCiXI_0bWY",
        "colab_type": "code",
        "colab": {}
      },
      "source": [
        "call_count = 0\n",
        "\n",
        "def fib3(n):\n",
        "    \"\"\"Return a n-th member of Fibonacci series. a recursive version\"\"\"\n",
        "    global call_count #this statement makes outer variable visible\n",
        "    if n < 2:\n",
        "        return n\n",
        "    else:\n",
        "        return fib3(n-1)+fib3(n-2)\n",
        "#def ends\n",
        "\n",
        "fib3(10) #call\n",
        "print(call_count)\n",
        "\n",
        "sum_count = 0\n",
        "def fib2(n):  # return Fibonacci series up to n\n",
        "    \"\"\"Return a list containing the Fibonacci series up to n.\"\"\"\n",
        "    global sum_count #this statement makes outer variable visible\n",
        "    result = []\n",
        "    a = 0\n",
        "    b = 1\n",
        "    while a < n:\n",
        "        result.append(a) #\n",
        "        a,b = b, a+b\n",
        "    return result\n",
        " \n",
        "#Function call returns a value\n",
        "f = fib2(10)\n",
        "print(sum_count)"
      ],
      "execution_count": 0,
      "outputs": []
    }
  ]
}